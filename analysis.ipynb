{
 "cells": [
  {
   "cell_type": "markdown",
   "id": "8dae6106-d92a-49e6-955a-5ee230261374",
   "metadata": {},
   "source": [
    "**Analyze this dataset of American college and university undergraduate programs.**"
   ]
  },
  {
   "cell_type": "markdown",
   "id": "8b5ce224-0ab6-4d01-b8fe-8cc9a7f62864",
   "metadata": {},
   "source": [
    "Specifications\n",
    "1. Discover & visualize the dataset to get insights. Include some key visuals and written\n",
    "conclusions.\n",
    "2. Report on relevant statistics.\n",
    "3. Discuss your steps for cleaning the data.\n",
    "4. Explain how you identify outliers and what you do with that information.\n",
    "5. Explain how you approach missing values in the data.\n",
    "\n",
    "\n",
    "Deliverables and Submission\n",
    "Compile your results into a single document (pdf, doc, or slideshow), including text and\n",
    "screenshots.\n",
    "The document should include:\n",
    "1. Meaningful insights into the data, presented in a way your audience will understand.\n",
    "2. A more technical treatment of the data and statistics for your peers.\n",
    "3. Screenshots and explanations of your process. Make sure to answer all the\n",
    "questions in the specifications above.\n",
    "Submit this by sending it as an email attachment."
   ]
  },
  {
   "cell_type": "code",
   "execution_count": 1,
   "id": "c53fda49-0b7d-4e30-936c-a5630bff53ee",
   "metadata": {},
   "outputs": [],
   "source": [
    "# Import libraries\n",
    "import numpy as np\n",
    "import pandas as pd\n",
    "import matplotlib.pyplot as plt\n",
    "import seaborn as sns\n",
    "import os"
   ]
  },
  {
   "cell_type": "code",
   "execution_count": 8,
   "id": "26ece473-5a1c-48cd-91e7-ce732b32e4eb",
   "metadata": {},
   "outputs": [],
   "source": [
    "# Read the data from file for inspection\n",
    "\n",
    "file = pd.ExcelFile('Data/Universities.xlsx')\n",
    "desc = pd.read_excel(xls, 'Description')\n",
    "data = pd.read_excel(xls, 'usnews3.data.9 .SS (v5.0)')"
   ]
  },
  {
   "cell_type": "code",
   "execution_count": 9,
   "id": "54637f54-2d1d-4983-8485-0119d5ea63d3",
   "metadata": {},
   "outputs": [
    {
     "data": {
      "text/html": [
       "<div>\n",
       "<style scoped>\n",
       "    .dataframe tbody tr th:only-of-type {\n",
       "        vertical-align: middle;\n",
       "    }\n",
       "\n",
       "    .dataframe tbody tr th {\n",
       "        vertical-align: top;\n",
       "    }\n",
       "\n",
       "    .dataframe thead th {\n",
       "        text-align: right;\n",
       "    }\n",
       "</style>\n",
       "<table border=\"1\" class=\"dataframe\">\n",
       "  <thead>\n",
       "    <tr style=\"text-align: right;\">\n",
       "      <th></th>\n",
       "      <th>(c) 2016 Galit Shmueli and Peter Bruce</th>\n",
       "    </tr>\n",
       "  </thead>\n",
       "  <tbody>\n",
       "    <tr>\n",
       "      <th>0</th>\n",
       "      <td>NaN</td>\n",
       "    </tr>\n",
       "    <tr>\n",
       "      <th>1</th>\n",
       "      <td>Source: Compiled from US News and World Report...</td>\n",
       "    </tr>\n",
       "  </tbody>\n",
       "</table>\n",
       "</div>"
      ],
      "text/plain": [
       "              (c) 2016 Galit Shmueli and Peter Bruce\n",
       "0                                                NaN\n",
       "1  Source: Compiled from US News and World Report..."
      ]
     },
     "execution_count": 9,
     "metadata": {},
     "output_type": "execute_result"
    }
   ],
   "source": [
    "desc.head()"
   ]
  },
  {
   "cell_type": "code",
   "execution_count": 10,
   "id": "886cf7f7-bb43-4c35-89cf-e2c94d9e8a89",
   "metadata": {},
   "outputs": [
    {
     "data": {
      "text/html": [
       "<div>\n",
       "<style scoped>\n",
       "    .dataframe tbody tr th:only-of-type {\n",
       "        vertical-align: middle;\n",
       "    }\n",
       "\n",
       "    .dataframe tbody tr th {\n",
       "        vertical-align: top;\n",
       "    }\n",
       "\n",
       "    .dataframe thead th {\n",
       "        text-align: right;\n",
       "    }\n",
       "</style>\n",
       "<table border=\"1\" class=\"dataframe\">\n",
       "  <thead>\n",
       "    <tr style=\"text-align: right;\">\n",
       "      <th></th>\n",
       "      <th>College Name</th>\n",
       "      <th>State</th>\n",
       "      <th>Public (1)/ Private (2)</th>\n",
       "      <th># appli. rec'd</th>\n",
       "      <th># appl. accepted</th>\n",
       "      <th># new stud. enrolled</th>\n",
       "      <th>% new stud. from top 10%</th>\n",
       "      <th>% new stud. from top 25%</th>\n",
       "      <th># FT undergrad</th>\n",
       "      <th># PT undergrad</th>\n",
       "      <th>in-state tuition</th>\n",
       "      <th>out-of-state tuition</th>\n",
       "      <th>room</th>\n",
       "      <th>board</th>\n",
       "      <th>add. fees</th>\n",
       "      <th>estim. book costs</th>\n",
       "      <th>estim. personal $</th>\n",
       "      <th>% fac. w/PHD</th>\n",
       "      <th>stud./fac. ratio</th>\n",
       "      <th>Graduation rate</th>\n",
       "    </tr>\n",
       "  </thead>\n",
       "  <tbody>\n",
       "    <tr>\n",
       "      <th>0</th>\n",
       "      <td>Alaska Pacific University</td>\n",
       "      <td>AK</td>\n",
       "      <td>2</td>\n",
       "      <td>193.0</td>\n",
       "      <td>146.0</td>\n",
       "      <td>55.0</td>\n",
       "      <td>16.0</td>\n",
       "      <td>44.0</td>\n",
       "      <td>249.0</td>\n",
       "      <td>869.0</td>\n",
       "      <td>7560.0</td>\n",
       "      <td>7560.0</td>\n",
       "      <td>1620.0</td>\n",
       "      <td>2500.0</td>\n",
       "      <td>130.0</td>\n",
       "      <td>800.0</td>\n",
       "      <td>1500.0</td>\n",
       "      <td>76.0</td>\n",
       "      <td>11.9</td>\n",
       "      <td>15.0</td>\n",
       "    </tr>\n",
       "    <tr>\n",
       "      <th>1</th>\n",
       "      <td>University of Alaska at Fairbanks</td>\n",
       "      <td>AK</td>\n",
       "      <td>1</td>\n",
       "      <td>1852.0</td>\n",
       "      <td>1427.0</td>\n",
       "      <td>928.0</td>\n",
       "      <td>NaN</td>\n",
       "      <td>NaN</td>\n",
       "      <td>3885.0</td>\n",
       "      <td>4519.0</td>\n",
       "      <td>1742.0</td>\n",
       "      <td>5226.0</td>\n",
       "      <td>1800.0</td>\n",
       "      <td>1790.0</td>\n",
       "      <td>155.0</td>\n",
       "      <td>650.0</td>\n",
       "      <td>2304.0</td>\n",
       "      <td>67.0</td>\n",
       "      <td>10.0</td>\n",
       "      <td>NaN</td>\n",
       "    </tr>\n",
       "    <tr>\n",
       "      <th>2</th>\n",
       "      <td>University of Alaska Southeast</td>\n",
       "      <td>AK</td>\n",
       "      <td>1</td>\n",
       "      <td>146.0</td>\n",
       "      <td>117.0</td>\n",
       "      <td>89.0</td>\n",
       "      <td>4.0</td>\n",
       "      <td>24.0</td>\n",
       "      <td>492.0</td>\n",
       "      <td>1849.0</td>\n",
       "      <td>1742.0</td>\n",
       "      <td>5226.0</td>\n",
       "      <td>2514.0</td>\n",
       "      <td>2250.0</td>\n",
       "      <td>34.0</td>\n",
       "      <td>500.0</td>\n",
       "      <td>1162.0</td>\n",
       "      <td>39.0</td>\n",
       "      <td>9.5</td>\n",
       "      <td>39.0</td>\n",
       "    </tr>\n",
       "    <tr>\n",
       "      <th>3</th>\n",
       "      <td>University of Alaska at Anchorage</td>\n",
       "      <td>AK</td>\n",
       "      <td>1</td>\n",
       "      <td>2065.0</td>\n",
       "      <td>1598.0</td>\n",
       "      <td>1162.0</td>\n",
       "      <td>NaN</td>\n",
       "      <td>NaN</td>\n",
       "      <td>6209.0</td>\n",
       "      <td>10537.0</td>\n",
       "      <td>1742.0</td>\n",
       "      <td>5226.0</td>\n",
       "      <td>2600.0</td>\n",
       "      <td>2520.0</td>\n",
       "      <td>114.0</td>\n",
       "      <td>580.0</td>\n",
       "      <td>1260.0</td>\n",
       "      <td>48.0</td>\n",
       "      <td>13.7</td>\n",
       "      <td>NaN</td>\n",
       "    </tr>\n",
       "    <tr>\n",
       "      <th>4</th>\n",
       "      <td>Alabama Agri. &amp; Mech. Univ.</td>\n",
       "      <td>AL</td>\n",
       "      <td>1</td>\n",
       "      <td>2817.0</td>\n",
       "      <td>1920.0</td>\n",
       "      <td>984.0</td>\n",
       "      <td>NaN</td>\n",
       "      <td>NaN</td>\n",
       "      <td>3958.0</td>\n",
       "      <td>305.0</td>\n",
       "      <td>1700.0</td>\n",
       "      <td>3400.0</td>\n",
       "      <td>1108.0</td>\n",
       "      <td>1442.0</td>\n",
       "      <td>155.0</td>\n",
       "      <td>500.0</td>\n",
       "      <td>850.0</td>\n",
       "      <td>53.0</td>\n",
       "      <td>14.3</td>\n",
       "      <td>40.0</td>\n",
       "    </tr>\n",
       "  </tbody>\n",
       "</table>\n",
       "</div>"
      ],
      "text/plain": [
       "                        College Name State  Public (1)/ Private (2)  \\\n",
       "0          Alaska Pacific University    AK                        2   \n",
       "1  University of Alaska at Fairbanks    AK                        1   \n",
       "2     University of Alaska Southeast    AK                        1   \n",
       "3  University of Alaska at Anchorage    AK                        1   \n",
       "4        Alabama Agri. & Mech. Univ.    AL                        1   \n",
       "\n",
       "   # appli. rec'd  # appl. accepted  # new stud. enrolled  \\\n",
       "0           193.0             146.0                  55.0   \n",
       "1          1852.0            1427.0                 928.0   \n",
       "2           146.0             117.0                  89.0   \n",
       "3          2065.0            1598.0                1162.0   \n",
       "4          2817.0            1920.0                 984.0   \n",
       "\n",
       "   % new stud. from top 10%  % new stud. from top 25%  # FT undergrad  \\\n",
       "0                      16.0                      44.0           249.0   \n",
       "1                       NaN                       NaN          3885.0   \n",
       "2                       4.0                      24.0           492.0   \n",
       "3                       NaN                       NaN          6209.0   \n",
       "4                       NaN                       NaN          3958.0   \n",
       "\n",
       "   # PT undergrad  in-state tuition  out-of-state tuition    room   board  \\\n",
       "0           869.0            7560.0                7560.0  1620.0  2500.0   \n",
       "1          4519.0            1742.0                5226.0  1800.0  1790.0   \n",
       "2          1849.0            1742.0                5226.0  2514.0  2250.0   \n",
       "3         10537.0            1742.0                5226.0  2600.0  2520.0   \n",
       "4           305.0            1700.0                3400.0  1108.0  1442.0   \n",
       "\n",
       "   add. fees  estim. book costs  estim. personal $  % fac. w/PHD  \\\n",
       "0      130.0              800.0             1500.0          76.0   \n",
       "1      155.0              650.0             2304.0          67.0   \n",
       "2       34.0              500.0             1162.0          39.0   \n",
       "3      114.0              580.0             1260.0          48.0   \n",
       "4      155.0              500.0              850.0          53.0   \n",
       "\n",
       "   stud./fac. ratio  Graduation rate  \n",
       "0              11.9             15.0  \n",
       "1              10.0              NaN  \n",
       "2               9.5             39.0  \n",
       "3              13.7              NaN  \n",
       "4              14.3             40.0  "
      ]
     },
     "execution_count": 10,
     "metadata": {},
     "output_type": "execute_result"
    }
   ],
   "source": [
    "data.head()"
   ]
  },
  {
   "cell_type": "code",
   "execution_count": 11,
   "id": "4b75be19-06ce-4cad-a2e1-3dcbb53cd415",
   "metadata": {},
   "outputs": [
    {
     "name": "stdout",
     "output_type": "stream",
     "text": [
      "<class 'pandas.core.frame.DataFrame'>\n",
      "RangeIndex: 1302 entries, 0 to 1301\n",
      "Data columns (total 20 columns):\n",
      " #   Column                    Non-Null Count  Dtype  \n",
      "---  ------                    --------------  -----  \n",
      " 0   College Name              1302 non-null   object \n",
      " 1   State                     1302 non-null   object \n",
      " 2   Public (1)/ Private (2)   1302 non-null   int64  \n",
      " 3   # appli. rec'd            1292 non-null   float64\n",
      " 4   # appl. accepted          1291 non-null   float64\n",
      " 5   # new stud. enrolled      1297 non-null   float64\n",
      " 6   % new stud. from top 10%  1067 non-null   float64\n",
      " 7   % new stud. from top 25%  1100 non-null   float64\n",
      " 8   # FT undergrad            1299 non-null   float64\n",
      " 9   # PT undergrad            1270 non-null   float64\n",
      " 10  in-state tuition          1272 non-null   float64\n",
      " 11  out-of-state tuition      1282 non-null   float64\n",
      " 12  room                      981 non-null    float64\n",
      " 13  board                     804 non-null    float64\n",
      " 14  add. fees                 1028 non-null   float64\n",
      " 15  estim. book costs         1254 non-null   float64\n",
      " 16  estim. personal $         1121 non-null   float64\n",
      " 17  % fac. w/PHD              1270 non-null   float64\n",
      " 18  stud./fac. ratio          1300 non-null   float64\n",
      " 19  Graduation rate           1204 non-null   float64\n",
      "dtypes: float64(17), int64(1), object(2)\n",
      "memory usage: 203.6+ KB\n"
     ]
    }
   ],
   "source": [
    "data.info()"
   ]
  },
  {
   "cell_type": "code",
   "execution_count": 12,
   "id": "0f67de7b-98e0-47f6-8913-2832684fd506",
   "metadata": {},
   "outputs": [],
   "source": [
    "# Lets rename the columns first for consistancy\n",
    "\n",
    "data = data.rename(columns={'College Name': 'college_name', 'State': 'state','Public (1)/ Private (2)': 'pub1_pub2',\n",
    "                            \"# appli. rec'd\": 'no_of_appl_recd','# appl. accepted': 'no_of_appl_accepted',\n",
    "                            '# new stud. enrolled': 'no_of_stud_enrolled','% new stud. from top 10%': 'newstud_top10per',\n",
    "                            '% new stud. from top 25%': 'newstud_top25per','# FT undergrad': 'no_of_ft_undergrad',\n",
    "                            '# PT undergrad': 'no_of_pt_undergrad','in-state tuition': 'in_state_tuition','out-of-state tuition': 'out_state_tuition',\n",
    "                            'add. fees': 'additional_fees','estim. book costs': 'estim_book_costs','estim. personal $': 'estim_personal_costs',\n",
    "                            '% fac. w/PHD': 'faculty_w_phd','stud./fac. ratio': 'stud_fac_ratio','Graduation rate': 'graduation_rate'})"
   ]
  },
  {
   "cell_type": "code",
   "execution_count": 13,
   "id": "c1741d6f-a39b-435c-bf77-9392b94667e8",
   "metadata": {},
   "outputs": [
    {
     "name": "stdout",
     "output_type": "stream",
     "text": [
      "<class 'pandas.core.frame.DataFrame'>\n",
      "RangeIndex: 1302 entries, 0 to 1301\n",
      "Data columns (total 20 columns):\n",
      " #   Column                Non-Null Count  Dtype  \n",
      "---  ------                --------------  -----  \n",
      " 0   college_name          1302 non-null   object \n",
      " 1   state                 1302 non-null   object \n",
      " 2   pub1_pub2             1302 non-null   int64  \n",
      " 3   no_of_appl_recd       1292 non-null   float64\n",
      " 4   no_of_appl_accepted   1291 non-null   float64\n",
      " 5   no_of_stud_enrolled   1297 non-null   float64\n",
      " 6   newstud_top10per      1067 non-null   float64\n",
      " 7   newstud_top25per      1100 non-null   float64\n",
      " 8   no_of_ft_undergrad    1299 non-null   float64\n",
      " 9   no_of_pt_undergrad    1270 non-null   float64\n",
      " 10  in_state_tuition      1272 non-null   float64\n",
      " 11  out_state_tuition     1282 non-null   float64\n",
      " 12  room                  981 non-null    float64\n",
      " 13  board                 804 non-null    float64\n",
      " 14  additional_fees       1028 non-null   float64\n",
      " 15  estim_book_costs      1254 non-null   float64\n",
      " 16  estim_personal_costs  1121 non-null   float64\n",
      " 17  faculty_w_phd         1270 non-null   float64\n",
      " 18  stud_fac_ratio        1300 non-null   float64\n",
      " 19  graduation_rate       1204 non-null   float64\n",
      "dtypes: float64(17), int64(1), object(2)\n",
      "memory usage: 203.6+ KB\n"
     ]
    }
   ],
   "source": [
    "data.info()"
   ]
  },
  {
   "cell_type": "markdown",
   "id": "b33f5d0c-e9fc-48ac-bbf6-557f7d864fc7",
   "metadata": {},
   "source": [
    "## Light EDA"
   ]
  },
  {
   "cell_type": "code",
   "execution_count": 15,
   "id": "5f204c5f-1483-4a53-94b4-be42f7b4ea90",
   "metadata": {},
   "outputs": [
    {
     "data": {
      "text/plain": [
       "college_name             0.000000\n",
       "state                    0.000000\n",
       "pub1_pub2                0.000000\n",
       "no_of_appl_recd          0.768049\n",
       "no_of_appl_accepted      0.844854\n",
       "no_of_stud_enrolled      0.384025\n",
       "newstud_top10per        18.049155\n",
       "newstud_top25per        15.514593\n",
       "no_of_ft_undergrad       0.230415\n",
       "no_of_pt_undergrad       2.457757\n",
       "in_state_tuition         2.304147\n",
       "out_state_tuition        1.536098\n",
       "room                    24.654378\n",
       "board                   38.248848\n",
       "additional_fees         21.044547\n",
       "estim_book_costs         3.686636\n",
       "estim_personal_costs    13.901690\n",
       "faculty_w_phd            2.457757\n",
       "stud_fac_ratio           0.153610\n",
       "graduation_rate          7.526882\n",
       "dtype: float64"
      ]
     },
     "execution_count": 15,
     "metadata": {},
     "output_type": "execute_result"
    }
   ],
   "source": [
    "data.isnull().sum() * 100 / len(data)"
   ]
  },
  {
   "cell_type": "code",
   "execution_count": 16,
   "id": "8629f392-1d28-43d1-a27f-ba8937c15a11",
   "metadata": {},
   "outputs": [
    {
     "data": {
      "text/plain": [
       "college_name             0.000000\n",
       "state                    0.000000\n",
       "pub1_pub2                0.000000\n",
       "stud_fac_ratio           0.153610\n",
       "no_of_ft_undergrad       0.230415\n",
       "no_of_stud_enrolled      0.384025\n",
       "no_of_appl_recd          0.768049\n",
       "no_of_appl_accepted      0.844854\n",
       "out_state_tuition        1.536098\n",
       "in_state_tuition         2.304147\n",
       "faculty_w_phd            2.457757\n",
       "no_of_pt_undergrad       2.457757\n",
       "estim_book_costs         3.686636\n",
       "graduation_rate          7.526882\n",
       "estim_personal_costs    13.901690\n",
       "newstud_top25per        15.514593\n",
       "newstud_top10per        18.049155\n",
       "additional_fees         21.044547\n",
       "room                    24.654378\n",
       "board                   38.248848\n",
       "dtype: float64"
      ]
     },
     "execution_count": 16,
     "metadata": {},
     "output_type": "execute_result"
    }
   ],
   "source": [
    "(data.isnull().sum() * 100 / len(data)).sort_values()"
   ]
  },
  {
   "cell_type": "code",
   "execution_count": 19,
   "id": "48ddab74-1e37-4b4f-b7c2-904b96a37a7d",
   "metadata": {},
   "outputs": [
    {
     "data": {
      "text/plain": [
       "False"
      ]
     },
     "execution_count": 19,
     "metadata": {},
     "output_type": "execute_result"
    }
   ],
   "source": [
    "# Checking if any duplicates are there\n",
    "\n",
    "data.duplicated().any()"
   ]
  },
  {
   "cell_type": "markdown",
   "id": "3e83e3b2-ddd7-45cf-adf8-4725649541f9",
   "metadata": {},
   "source": [
    "## Analysis"
   ]
  },
  {
   "cell_type": "code",
   "execution_count": 20,
   "id": "ccebe9db-cca3-4236-9b37-47f6630af0c6",
   "metadata": {},
   "outputs": [
    {
     "data": {
      "text/html": [
       "<div>\n",
       "<style scoped>\n",
       "    .dataframe tbody tr th:only-of-type {\n",
       "        vertical-align: middle;\n",
       "    }\n",
       "\n",
       "    .dataframe tbody tr th {\n",
       "        vertical-align: top;\n",
       "    }\n",
       "\n",
       "    .dataframe thead th {\n",
       "        text-align: right;\n",
       "    }\n",
       "</style>\n",
       "<table border=\"1\" class=\"dataframe\">\n",
       "  <thead>\n",
       "    <tr style=\"text-align: right;\">\n",
       "      <th></th>\n",
       "      <th>college_name</th>\n",
       "      <th>state</th>\n",
       "    </tr>\n",
       "  </thead>\n",
       "  <tbody>\n",
       "    <tr>\n",
       "      <th>count</th>\n",
       "      <td>1302</td>\n",
       "      <td>1302</td>\n",
       "    </tr>\n",
       "    <tr>\n",
       "      <th>unique</th>\n",
       "      <td>1274</td>\n",
       "      <td>51</td>\n",
       "    </tr>\n",
       "    <tr>\n",
       "      <th>top</th>\n",
       "      <td>Bethel College</td>\n",
       "      <td>NY</td>\n",
       "    </tr>\n",
       "    <tr>\n",
       "      <th>freq</th>\n",
       "      <td>4</td>\n",
       "      <td>101</td>\n",
       "    </tr>\n",
       "  </tbody>\n",
       "</table>\n",
       "</div>"
      ],
      "text/plain": [
       "          college_name state\n",
       "count             1302  1302\n",
       "unique            1274    51\n",
       "top     Bethel College    NY\n",
       "freq                 4   101"
      ]
     },
     "execution_count": 20,
     "metadata": {},
     "output_type": "execute_result"
    }
   ],
   "source": [
    "# Lets inspect all categorical columns\n",
    "\n",
    "data.describe(include = 'object')"
   ]
  },
  {
   "cell_type": "code",
   "execution_count": 23,
   "id": "829901a5-6df7-41d4-9d1d-ed9f8583f909",
   "metadata": {},
   "outputs": [
    {
     "data": {
      "text/plain": [
       "array(['Alaska Pacific University', 'University of Alaska at Fairbanks',\n",
       "       'University of Alaska Southeast', ...,\n",
       "       'West Virginia Wesleyan College', 'Wheeling Jesuit College',\n",
       "       'University of Wyoming'], dtype=object)"
      ]
     },
     "execution_count": 23,
     "metadata": {},
     "output_type": "execute_result"
    }
   ],
   "source": [
    "data['college_name'].unique()"
   ]
  },
  {
   "cell_type": "code",
   "execution_count": 24,
   "id": "3fe666a4-525d-486b-a9af-0222f4caffdb",
   "metadata": {},
   "outputs": [
    {
     "data": {
      "text/plain": [
       "array(['AK', 'AL', 'AR', 'AZ', 'CA', 'CO', 'CT', 'DC', 'DE', 'FL', 'GA',\n",
       "       'HI', 'IA', 'ID', 'IL', 'IN', 'KS', 'KY', 'LA', 'MA', 'MD', 'ME',\n",
       "       'MI', 'MN', 'MO', 'MS', 'MT', 'NC', 'ND', 'NE', 'NH', 'NJ', 'NM',\n",
       "       'NV', 'NY', 'OH', 'OK', 'OR', 'PA', 'RI', 'SC', 'SD', 'TN', 'TX',\n",
       "       'UT', 'VA', 'VT', 'WA', 'WI', 'WV', 'WY'], dtype=object)"
      ]
     },
     "execution_count": 24,
     "metadata": {},
     "output_type": "execute_result"
    }
   ],
   "source": [
    "data['state'].unique()"
   ]
  },
  {
   "cell_type": "code",
   "execution_count": null,
   "id": "16a93aca-4c8c-4803-8165-914acc2c5092",
   "metadata": {},
   "outputs": [],
   "source": []
  }
 ],
 "metadata": {
  "kernelspec": {
   "display_name": "Python 3 (ipykernel)",
   "language": "python",
   "name": "python3"
  },
  "language_info": {
   "codemirror_mode": {
    "name": "ipython",
    "version": 3
   },
   "file_extension": ".py",
   "mimetype": "text/x-python",
   "name": "python",
   "nbconvert_exporter": "python",
   "pygments_lexer": "ipython3",
   "version": "3.10.10"
  }
 },
 "nbformat": 4,
 "nbformat_minor": 5
}
